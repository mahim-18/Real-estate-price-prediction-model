{
 "cells": [
  {
   "cell_type": "code",
   "execution_count": 22,
   "id": "c4ffce25-8e04-4890-a541-32190fdb8820",
   "metadata": {},
   "outputs": [],
   "source": [
    "from joblib import dump, load\n",
    "\n",
    "import numpy as np\n",
    "model = load('realestate.joblib')\n",
    "features = np.array([[-0.44352175,  3.12628155, -1.35893781, -0.27288841, -1.0542567 ,\n",
    "        0.5009123 , -1.3938808 ,  2.19312325, -0.65766683, -0.78557904,\n",
    "       -0.69277865,  0.39131918, -0.94116739]])"
   ]
  },
  {
   "cell_type": "code",
   "execution_count": 24,
   "id": "e3c82a66-6b05-4bee-92e1-0968e5ba9116",
   "metadata": {},
   "outputs": [
    {
     "data": {
      "text/plain": [
       "array([25.374])"
      ]
     },
     "execution_count": 24,
     "metadata": {},
     "output_type": "execute_result"
    }
   ],
   "source": [
    "model.predict(features)"
   ]
  },
  {
   "cell_type": "code",
   "execution_count": null,
   "id": "08b88ff1-8e3a-48ea-8868-496a57d292b6",
   "metadata": {},
   "outputs": [],
   "source": []
  }
 ],
 "metadata": {
  "kernelspec": {
   "display_name": "Python [conda env:base] *",
   "language": "python",
   "name": "conda-base-py"
  },
  "language_info": {
   "codemirror_mode": {
    "name": "ipython",
    "version": 3
   },
   "file_extension": ".py",
   "mimetype": "text/x-python",
   "name": "python",
   "nbconvert_exporter": "python",
   "pygments_lexer": "ipython3",
   "version": "3.12.7"
  }
 },
 "nbformat": 4,
 "nbformat_minor": 5
}
